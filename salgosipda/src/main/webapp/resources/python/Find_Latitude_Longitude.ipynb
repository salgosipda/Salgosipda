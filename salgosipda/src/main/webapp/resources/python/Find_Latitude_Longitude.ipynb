{
 "cells": [
  {
   "cell_type": "markdown",
   "metadata": {},
   "source": [
    "## 빈 주소가 없는 경우"
   ]
  },
  {
   "cell_type": "code",
   "execution_count": null,
   "metadata": {},
   "outputs": [],
   "source": [
    "import pandas as pd\n",
    "import numpy as np\n",
    "import json\n",
    "import requests"
   ]
  },
  {
   "cell_type": "code",
   "execution_count": null,
   "metadata": {},
   "outputs": [],
   "source": [
    "#csv파일 불러오기\n",
    "csvfile = pd.read_csv(\"temp.csv\", encoding = \"euc-kr\")"
   ]
  },
  {
   "cell_type": "code",
   "execution_count": null,
   "metadata": {},
   "outputs": [],
   "source": [
    "#카카오API 사용해서 주소로 위도,경도 찾기\n",
    "\n",
    "lats = list()\n",
    "lons = list()\n",
    "\n",
    "\n",
    "for address in csvfile['Address']: \n",
    "    #카카오API연결\n",
    "    url = 'https://dapi.kakao.com/v2/local/search/address.json?query={}'.format(address)\n",
    "    headers = {\n",
    "        \"Authorization\": \"KakaoAK 684d81b6e651af684b83edf223bdbe36\"\n",
    "    }\n",
    "    #json결과저장\n",
    "    result = requests.get(url, headers = headers).json()['documents']\n",
    "    \n",
    "    if len(result) != 0:\n",
    "        #위도,경도저장\n",
    "        lat = result[0]['y']\n",
    "        lon = result[0]['x']\n",
    "\n",
    "        lats.append(lat)\n",
    "        lons.append(lon)\n",
    "\n",
    "    else:\n",
    "        #nan값저장\n",
    "        lats.append(np.nan)\n",
    "        lons.append(np.nan)\n",
    "        \n",
    "        \n",
    "#csv에 위도,경도 리스트 합치기        \n",
    "csvfile['Lat'] = lats\n",
    "csvfile['Lon'] = lons"
   ]
  },
  {
   "cell_type": "code",
   "execution_count": null,
   "metadata": {},
   "outputs": [],
   "source": [
    "#새로운 csv 만들기\n",
    "csvfile.to_csv(\"data.csv\", index=False, encoding=\"euc-kr\")"
   ]
  },
  {
   "cell_type": "markdown",
   "metadata": {},
   "source": [
    "## 빈 주소가 있는 경우"
   ]
  },
  {
   "cell_type": "code",
   "execution_count": null,
   "metadata": {},
   "outputs": [],
   "source": [
    "import pandas as pd\n",
    "import numpy as np\n",
    "import json\n",
    "import requests"
   ]
  },
  {
   "cell_type": "code",
   "execution_count": null,
   "metadata": {},
   "outputs": [],
   "source": [
    "#csv파일 불러오기\n",
    "csvfile = pd.read_csv(\"temp.csv\", encoding = \"euc-kr\")"
   ]
  },
  {
   "cell_type": "code",
   "execution_count": null,
   "metadata": {},
   "outputs": [],
   "source": [
    "#비어있는 도로명주소에 지번주소 삽입\n",
    "null_address = csvfile[csvfile['도로명주소'].isnull()]\n",
    "null_address['도로명주소'] = null_address['지번주소']\n",
    "\n",
    "#삽입 후 기존 도로명주소와 합치기\n",
    "all_address = csvfile[csvfile['도로명주소'].notnull()]\n",
    "new_address = all_address.append(null_address)"
   ]
  },
  {
   "cell_type": "code",
   "execution_count": null,
   "metadata": {},
   "outputs": [],
   "source": [
    "#카카오API 사용해서 주소로 위도,경도 찾기\n",
    "\n",
    "lats = list()\n",
    "lons = list()\n",
    "\n",
    "\n",
    "for address in new_address['도로명주소']:\n",
    "    #카카오API연결\n",
    "    url = 'https://dapi.kakao.com/v2/local/search/address.json?query={}'.format(address)\n",
    "    headers = {\n",
    "        \"Authorization\": \"KakaoAK 684d81b6e651af684b83edf223bdbe36\"\n",
    "    }\n",
    "    #json결과저장\n",
    "    result = requests.get(url, headers = headers).json()['documents']\n",
    "    \n",
    "    if len(result) != 0:\n",
    "        #위도,경도저장\n",
    "        lat = result[0]['y']\n",
    "        lon = result[0]['x']\n",
    "\n",
    "        lats.append(lat)\n",
    "        lons.append(lon)\n",
    "\n",
    "    else:\n",
    "        #nan값저장\n",
    "        lats.append(np.nan)\n",
    "        lons.append(np.nan)\n",
    "        \n",
    "\n",
    "#csv에 위도, 경도 리스트 합치기     \n",
    "new_address['Lat'] = lats\n",
    "new_address['Lon'] = lons"
   ]
  },
  {
   "cell_type": "code",
   "execution_count": null,
   "metadata": {},
   "outputs": [],
   "source": [
    "#새로운 csv 만들기\n",
    "new_address.to_csv(\"data.csv\", index=False, encoding=\"euc-kr\")"
   ]
  }
 ],
 "metadata": {
  "kernelspec": {
   "display_name": "Python 3",
   "language": "python",
   "name": "python3"
  },
  "language_info": {
   "codemirror_mode": {
    "name": "ipython",
    "version": 3
   },
   "file_extension": ".py",
   "mimetype": "text/x-python",
   "name": "python",
   "nbconvert_exporter": "python",
   "pygments_lexer": "ipython3",
   "version": "3.7.4"
  }
 },
 "nbformat": 4,
 "nbformat_minor": 2
}
